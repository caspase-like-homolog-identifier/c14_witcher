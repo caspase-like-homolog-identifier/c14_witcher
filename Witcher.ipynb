{
 "cells": [
  {
   "cell_type": "code",
   "execution_count": 1,
   "metadata": {},
   "outputs": [],
   "source": [
    "from find_deathdomains import FindDeathDomains\n",
    "from get_c14subunits import C14Subunits\n",
    "from decisiontree import DecisionTree\n",
    "from c14dyad import PrositePattern\n",
    "from run_hmmer import RunHmmer\n",
    "import pandas as pd\n",
    "import collections"
   ]
  },
  {
   "cell_type": "code",
   "execution_count": 2,
   "metadata": {},
   "outputs": [],
   "source": [
    "df = pd.DataFrame(columns=['a','b','c'])"
   ]
  },
  {
   "cell_type": "code",
   "execution_count": 3,
   "metadata": {},
   "outputs": [],
   "source": [
    "inseq = \"MCAx.fasta\"\n",
    "stockholm = \"MCAx.sto\""
   ]
  },
  {
   "cell_type": "code",
   "execution_count": 4,
   "metadata": {},
   "outputs": [],
   "source": [
    "hmmsearch = RunHmmer('hmmsearch',\n",
    "                     'Peptidase_C14.hmm', \n",
    "                     inseq,\n",
    "                     stockholm,\n",
    "                     \"MCA.tbloutx\",\n",
    "                     \"--cpu 4\", \n",
    "                     \"--incE 0.00001\")"
   ]
  },
  {
   "cell_type": "code",
   "execution_count": 5,
   "metadata": {},
   "outputs": [
    {
     "name": "stdout",
     "output_type": "stream",
     "text": [
      "hmmsearch  --cpu 4 --incE 0.00001 -A MCAx.sto --domtblout MCA.tbloutx Peptidase_C14.hmm MCAx.fasta\n"
     ]
    }
   ],
   "source": [
    "out, err = hmmsearch()"
   ]
  },
  {
   "cell_type": "code",
   "execution_count": 6,
   "metadata": {},
   "outputs": [],
   "source": [
    "prosite = PrositePattern(stockholm)"
   ]
  },
  {
   "cell_type": "code",
   "execution_count": 7,
   "metadata": {},
   "outputs": [],
   "source": [
    "dyads = prosite.get_dyad()"
   ]
  },
  {
   "cell_type": "code",
   "execution_count": 8,
   "metadata": {},
   "outputs": [
    {
     "data": {
      "text/html": [
       "<div>\n",
       "<style scoped>\n",
       "    .dataframe tbody tr th:only-of-type {\n",
       "        vertical-align: middle;\n",
       "    }\n",
       "\n",
       "    .dataframe tbody tr th {\n",
       "        vertical-align: top;\n",
       "    }\n",
       "\n",
       "    .dataframe thead th {\n",
       "        text-align: right;\n",
       "    }\n",
       "</style>\n",
       "<table border=\"1\" class=\"dataframe\">\n",
       "  <thead>\n",
       "    <tr style=\"text-align: right;\">\n",
       "      <th></th>\n",
       "      <th>Seq_ID</th>\n",
       "      <th>Caspase_CYS</th>\n",
       "      <th>CASPASE_HIS</th>\n",
       "    </tr>\n",
       "  </thead>\n",
       "  <tbody>\n",
       "    <tr>\n",
       "      <th>GAV73399/1-278</th>\n",
       "      <td>GAV73399/1-278</td>\n",
       "      <td>AKLHAIIDACHS</td>\n",
       "      <td>MQGCQPGDSLVFHYSGHG</td>\n",
       "    </tr>\n",
       "    <tr>\n",
       "      <th>XP_005649943/1-236</th>\n",
       "      <td>XP_005649943/1-236</td>\n",
       "      <td>VRLHAIIDACHS</td>\n",
       "      <td>TWNAQPGDSLVFHFSGHG</td>\n",
       "    </tr>\n",
       "    <tr>\n",
       "      <th>XP_004984157/1-271</th>\n",
       "      <td>XP_004984157/1-271</td>\n",
       "      <td>VKLHAIVDTCHS</td>\n",
       "      <td>DGATAGDSLVFHFSGHG</td>\n",
       "    </tr>\n",
       "    <tr>\n",
       "      <th>XP_003557793/1-279</th>\n",
       "      <td>XP_003557793/1-279</td>\n",
       "      <td>VKLHAIIDACHS</td>\n",
       "      <td>VHGCSSGDSLVFHFSGHG</td>\n",
       "    </tr>\n",
       "    <tr>\n",
       "      <th>OEL37242/1-271</th>\n",
       "      <td>OEL37242/1-271</td>\n",
       "      <td>VKLHAIVDTCHS</td>\n",
       "      <td>DGATAGDSLVFHFSGHG</td>\n",
       "    </tr>\n",
       "    <tr>\n",
       "      <th>XP_001696956/1-273</th>\n",
       "      <td>XP_001696956/1-273</td>\n",
       "      <td>VTLHAVIDACHS</td>\n",
       "      <td>MTDQQPGDSLFFHFSGHG</td>\n",
       "    </tr>\n",
       "    <tr>\n",
       "      <th>KXZ52917/1-235</th>\n",
       "      <td>KXZ52917/1-235</td>\n",
       "      <td>VTLHAVVDACHS</td>\n",
       "      <td>MTDQQPGDSLFFHFSGHG</td>\n",
       "    </tr>\n",
       "    <tr>\n",
       "      <th>XP_005844869/1-194</th>\n",
       "      <td>XP_005844869/1-194</td>\n",
       "      <td>VKLHCIIDACHS</td>\n",
       "      <td>MDMRPGDSLVFHYSGHG</td>\n",
       "    </tr>\n",
       "    <tr>\n",
       "      <th>WP_073450194/3-260</th>\n",
       "      <td>WP_073450194/3-260</td>\n",
       "      <td>VRILMLSDSCHS</td>\n",
       "      <td>SQLTAGDILMLTYSGHG</td>\n",
       "    </tr>\n",
       "    <tr>\n",
       "      <th>WP_066357058/1-258</th>\n",
       "      <td>WP_066357058/1-258</td>\n",
       "      <td>VRVLVFSDSCHS</td>\n",
       "      <td>KALGKGDIFMLSYSGHG</td>\n",
       "    </tr>\n",
       "    <tr>\n",
       "      <th>EJK62940/1-154</th>\n",
       "      <td>EJK62940/1-154</td>\n",
       "      <td>VHMFSLMDCCHS</td>\n",
       "      <td>SQAEEGDSIFLHYSGHG</td>\n",
       "    </tr>\n",
       "    <tr>\n",
       "      <th>XP_002294738/1-156</th>\n",
       "      <td>XP_002294738/1-156</td>\n",
       "      <td>VHMVSLMDCCHS</td>\n",
       "      <td>ADAEDGDAIFLHYSGHG</td>\n",
       "    </tr>\n",
       "    <tr>\n",
       "      <th>OEU06145/1-152</th>\n",
       "      <td>OEU06145/1-152</td>\n",
       "      <td>TTLTCLMDCCHS</td>\n",
       "      <td>KCQAGDIAFVHYSGHG</td>\n",
       "    </tr>\n",
       "    <tr>\n",
       "      <th>WP_029831217/2-216</th>\n",
       "      <td>WP_029831217/2-216</td>\n",
       "      <td>SRLLFISDSCHS</td>\n",
       "      <td>KKVVEGDIFVIYFSGHG</td>\n",
       "    </tr>\n",
       "    <tr>\n",
       "      <th>ACU45162/2-146</th>\n",
       "      <td>ACU45162/2-146</td>\n",
       "      <td>AKIIAIMDCCHS</td>\n",
       "      <td>EKVEEGDYFILYYTGHG</td>\n",
       "    </tr>\n",
       "    <tr>\n",
       "      <th>OLQ14474/1-145</th>\n",
       "      <td>OLQ14474/1-145</td>\n",
       "      <td></td>\n",
       "      <td>DWFVWFWAGHG</td>\n",
       "    </tr>\n",
       "    <tr>\n",
       "      <th>AID23599/3-56</th>\n",
       "      <td>AID23599/3-56</td>\n",
       "      <td>VHLVCLMDCCHS</td>\n",
       "      <td></td>\n",
       "    </tr>\n",
       "  </tbody>\n",
       "</table>\n",
       "</div>"
      ],
      "text/plain": [
       "                                Seq_ID   Caspase_CYS         CASPASE_HIS\n",
       "GAV73399/1-278          GAV73399/1-278  AKLHAIIDACHS  MQGCQPGDSLVFHYSGHG\n",
       "XP_005649943/1-236  XP_005649943/1-236  VRLHAIIDACHS  TWNAQPGDSLVFHFSGHG\n",
       "XP_004984157/1-271  XP_004984157/1-271  VKLHAIVDTCHS   DGATAGDSLVFHFSGHG\n",
       "XP_003557793/1-279  XP_003557793/1-279  VKLHAIIDACHS  VHGCSSGDSLVFHFSGHG\n",
       "OEL37242/1-271          OEL37242/1-271  VKLHAIVDTCHS   DGATAGDSLVFHFSGHG\n",
       "XP_001696956/1-273  XP_001696956/1-273  VTLHAVIDACHS  MTDQQPGDSLFFHFSGHG\n",
       "KXZ52917/1-235          KXZ52917/1-235  VTLHAVVDACHS  MTDQQPGDSLFFHFSGHG\n",
       "XP_005844869/1-194  XP_005844869/1-194  VKLHCIIDACHS   MDMRPGDSLVFHYSGHG\n",
       "WP_073450194/3-260  WP_073450194/3-260  VRILMLSDSCHS   SQLTAGDILMLTYSGHG\n",
       "WP_066357058/1-258  WP_066357058/1-258  VRVLVFSDSCHS   KALGKGDIFMLSYSGHG\n",
       "EJK62940/1-154          EJK62940/1-154  VHMFSLMDCCHS   SQAEEGDSIFLHYSGHG\n",
       "XP_002294738/1-156  XP_002294738/1-156  VHMVSLMDCCHS   ADAEDGDAIFLHYSGHG\n",
       "OEU06145/1-152          OEU06145/1-152  TTLTCLMDCCHS    KCQAGDIAFVHYSGHG\n",
       "WP_029831217/2-216  WP_029831217/2-216  SRLLFISDSCHS   KKVVEGDIFVIYFSGHG\n",
       "ACU45162/2-146          ACU45162/2-146  AKIIAIMDCCHS   EKVEEGDYFILYYTGHG\n",
       "OLQ14474/1-145          OLQ14474/1-145                       DWFVWFWAGHG\n",
       "AID23599/3-56            AID23599/3-56  VHLVCLMDCCHS                    "
      ]
     },
     "execution_count": 8,
     "metadata": {},
     "output_type": "execute_result"
    }
   ],
   "source": [
    "dyads"
   ]
  },
  {
   "cell_type": "code",
   "execution_count": 9,
   "metadata": {},
   "outputs": [],
   "source": [
    "deathdomains = FindDeathDomains(inseq, \"/opt/DB_REF/Pfam/Ig*hmm\")"
   ]
  },
  {
   "cell_type": "code",
   "execution_count": 10,
   "metadata": {
    "scrolled": true
   },
   "outputs": [
    {
     "name": "stdout",
     "output_type": "stream",
     "text": [
      "hmmsearch  -A /tmp/tmp2h4qw66u --domtblout /tmp/tmpgv_dk5xx /opt/DB_REF/Pfam/Ig_b245.hmm MCAx.fasta\n",
      "hmmsearch  -A /tmp/tmpd68kptm7 --domtblout /tmp/tmpbep2644k /opt/DB_REF/Pfam/Ig_c14.hmm MCAx.fasta\n",
      "hmmsearch  -A /tmp/tmp0cuv5hbl --domtblout /tmp/tmpz5txca39 /opt/DB_REF/Pfam/Ig.hmm MCAx.fasta\n",
      "hmmsearch  -A /tmp/tmppa45ccqt --domtblout /tmp/tmph3dum9ck /opt/DB_REF/Pfam/Ig_x14.hmm MCAx.fasta\n",
      "hmmsearch  -A /tmp/tmp_gb1pj_5 --domtblout /tmp/tmp15xdjzqm /opt/DB_REF/Pfam/Ig_3.hmm MCAx.fasta\n",
      "hmmsearch  -A /tmp/tmpuedfgsxe --domtblout /tmp/tmp7qpm20l_ /opt/DB_REF/Pfam/Ig_2.hmm MCAx.fasta\n"
     ]
    }
   ],
   "source": [
    "deathdomains.deathdomains_iter()"
   ]
  },
  {
   "cell_type": "code",
   "execution_count": 11,
   "metadata": {},
   "outputs": [],
   "source": [
    "#AVAILABLE FEATURES FOR DEATH DOMAINS\n",
    "# _id                                                                                                                                                                         \n",
    "# _id_alt                                                                                                                                                                     \n",
    "# _query_id                                                                                                                                                                   \n",
    "# _description                                                                                                                                                                \n",
    "# _description_alt                                                                                                                                                            \n",
    "# _query_description                                                                                                                                                          \n",
    "# attributes                                                                                                                                                                  \n",
    "# dbxrefs                                                                                                                                                                     \n",
    "# _items                                                                                                                                                                      \n",
    "# accession                                                                                                                                                                   \n",
    "# seq_len                                                                                                                                                                     \n",
    "# evalue                                                                                                                                                                      \n",
    "# bitscore                                                                                                                                                                    \n",
    "# bias \n",
    "dd = deathdomains.DeathDomains('evalue')"
   ]
  },
  {
   "cell_type": "code",
   "execution_count": 17,
   "metadata": {},
   "outputs": [
    {
     "data": {
      "text/html": [
       "<div>\n",
       "<style scoped>\n",
       "    .dataframe tbody tr th:only-of-type {\n",
       "        vertical-align: middle;\n",
       "    }\n",
       "\n",
       "    .dataframe tbody tr th {\n",
       "        vertical-align: top;\n",
       "    }\n",
       "\n",
       "    .dataframe thead th {\n",
       "        text-align: right;\n",
       "    }\n",
       "</style>\n",
       "<table border=\"1\" class=\"dataframe\">\n",
       "  <thead>\n",
       "    <tr style=\"text-align: right;\">\n",
       "      <th></th>\n",
       "      <th>Seq_ID</th>\n",
       "      <th>Peptidase_C14</th>\n",
       "      <th>Some_death_domain</th>\n",
       "    </tr>\n",
       "  </thead>\n",
       "  <tbody>\n",
       "    <tr>\n",
       "      <th>GAV73399</th>\n",
       "      <td>GAV73399</td>\n",
       "      <td>4.500000e-66</td>\n",
       "      <td>4.500000e-66</td>\n",
       "    </tr>\n",
       "    <tr>\n",
       "      <th>XP_005649943</th>\n",
       "      <td>XP_005649943</td>\n",
       "      <td>2.100000e-54</td>\n",
       "      <td>2.100000e-54</td>\n",
       "    </tr>\n",
       "    <tr>\n",
       "      <th>XP_004984157</th>\n",
       "      <td>XP_004984157</td>\n",
       "      <td>2.700000e-51</td>\n",
       "      <td>2.700000e-51</td>\n",
       "    </tr>\n",
       "    <tr>\n",
       "      <th>XP_003557793</th>\n",
       "      <td>XP_003557793</td>\n",
       "      <td>3.700000e-51</td>\n",
       "      <td>3.700000e-51</td>\n",
       "    </tr>\n",
       "    <tr>\n",
       "      <th>OEL37242</th>\n",
       "      <td>OEL37242</td>\n",
       "      <td>5.800000e-51</td>\n",
       "      <td>5.800000e-51</td>\n",
       "    </tr>\n",
       "    <tr>\n",
       "      <th>XP_001696956</th>\n",
       "      <td>XP_001696956</td>\n",
       "      <td>6.700000e-50</td>\n",
       "      <td>6.700000e-50</td>\n",
       "    </tr>\n",
       "    <tr>\n",
       "      <th>KXZ52917</th>\n",
       "      <td>KXZ52917</td>\n",
       "      <td>8.400000e-49</td>\n",
       "      <td>8.400000e-49</td>\n",
       "    </tr>\n",
       "    <tr>\n",
       "      <th>XP_005844869</th>\n",
       "      <td>XP_005844869</td>\n",
       "      <td>1.000000e-43</td>\n",
       "      <td>1.000000e-43</td>\n",
       "    </tr>\n",
       "    <tr>\n",
       "      <th>WP_073450194</th>\n",
       "      <td>WP_073450194</td>\n",
       "      <td>1.200000e-37</td>\n",
       "      <td>1.200000e-37</td>\n",
       "    </tr>\n",
       "    <tr>\n",
       "      <th>WP_066357058</th>\n",
       "      <td>WP_066357058</td>\n",
       "      <td>2.000000e-37</td>\n",
       "      <td>2.000000e-37</td>\n",
       "    </tr>\n",
       "    <tr>\n",
       "      <th>EJK62940</th>\n",
       "      <td>EJK62940</td>\n",
       "      <td>4.000000e-37</td>\n",
       "      <td>4.000000e-37</td>\n",
       "    </tr>\n",
       "    <tr>\n",
       "      <th>XP_002294738</th>\n",
       "      <td>XP_002294738</td>\n",
       "      <td>6.600000e-37</td>\n",
       "      <td>6.600000e-37</td>\n",
       "    </tr>\n",
       "    <tr>\n",
       "      <th>OEU06145</th>\n",
       "      <td>OEU06145</td>\n",
       "      <td>1.200000e-35</td>\n",
       "      <td>1.200000e-35</td>\n",
       "    </tr>\n",
       "    <tr>\n",
       "      <th>WP_029831217</th>\n",
       "      <td>WP_029831217</td>\n",
       "      <td>1.500000e-25</td>\n",
       "      <td>1.500000e-25</td>\n",
       "    </tr>\n",
       "    <tr>\n",
       "      <th>ACU45162</th>\n",
       "      <td>ACU45162</td>\n",
       "      <td>2.600000e-18</td>\n",
       "      <td>2.600000e-18</td>\n",
       "    </tr>\n",
       "    <tr>\n",
       "      <th>OLQ14474</th>\n",
       "      <td>OLQ14474</td>\n",
       "      <td>1.800000e-15</td>\n",
       "      <td>1.800000e-15</td>\n",
       "    </tr>\n",
       "    <tr>\n",
       "      <th>AID23599</th>\n",
       "      <td>AID23599</td>\n",
       "      <td>1.800000e-08</td>\n",
       "      <td>1.800000e-08</td>\n",
       "    </tr>\n",
       "  </tbody>\n",
       "</table>\n",
       "</div>"
      ],
      "text/plain": [
       "                    Seq_ID  Peptidase_C14  Some_death_domain\n",
       "GAV73399          GAV73399   4.500000e-66       4.500000e-66\n",
       "XP_005649943  XP_005649943   2.100000e-54       2.100000e-54\n",
       "XP_004984157  XP_004984157   2.700000e-51       2.700000e-51\n",
       "XP_003557793  XP_003557793   3.700000e-51       3.700000e-51\n",
       "OEL37242          OEL37242   5.800000e-51       5.800000e-51\n",
       "XP_001696956  XP_001696956   6.700000e-50       6.700000e-50\n",
       "KXZ52917          KXZ52917   8.400000e-49       8.400000e-49\n",
       "XP_005844869  XP_005844869   1.000000e-43       1.000000e-43\n",
       "WP_073450194  WP_073450194   1.200000e-37       1.200000e-37\n",
       "WP_066357058  WP_066357058   2.000000e-37       2.000000e-37\n",
       "EJK62940          EJK62940   4.000000e-37       4.000000e-37\n",
       "XP_002294738  XP_002294738   6.600000e-37       6.600000e-37\n",
       "OEU06145          OEU06145   1.200000e-35       1.200000e-35\n",
       "WP_029831217  WP_029831217   1.500000e-25       1.500000e-25\n",
       "ACU45162          ACU45162   2.600000e-18       2.600000e-18\n",
       "OLQ14474          OLQ14474   1.800000e-15       1.800000e-15\n",
       "AID23599          AID23599   1.800000e-08       1.800000e-08"
      ]
     },
     "execution_count": 17,
     "metadata": {},
     "output_type": "execute_result"
    }
   ],
   "source": [
    "dd"
   ]
  },
  {
   "cell_type": "code",
   "execution_count": 18,
   "metadata": {},
   "outputs": [],
   "source": [
    "c14 = C14Subunits(stockholm, dyads)"
   ]
  },
  {
   "cell_type": "code",
   "execution_count": 19,
   "metadata": {},
   "outputs": [
    {
     "name": "stdout",
     "output_type": "stream",
     "text": [
      "None\n"
     ]
    },
    {
     "ename": "TypeError",
     "evalue": "'>' not supported between instances of 'int' and 'NoneType'",
     "output_type": "error",
     "traceback": [
      "\u001b[0;31m---------------------------------------------------------------------------\u001b[0m",
      "\u001b[0;31mTypeError\u001b[0m                                 Traceback (most recent call last)",
      "\u001b[0;32m<ipython-input-19-8b6ffd36455d>\u001b[0m in \u001b[0;36m<module>\u001b[0;34m\u001b[0m\n\u001b[0;32m----> 1\u001b[0;31m \u001b[0mp10\u001b[0m \u001b[0;34m=\u001b[0m \u001b[0mc14\u001b[0m\u001b[0;34m.\u001b[0m\u001b[0mget_p10\u001b[0m\u001b[0;34m(\u001b[0m\u001b[0;34m)\u001b[0m\u001b[0;34m\u001b[0m\u001b[0;34m\u001b[0m\u001b[0m\n\u001b[0m",
      "\u001b[0;32m~/Documents/c14_witcher/get_c14subunits.py\u001b[0m in \u001b[0;36mget_p10\u001b[0;34m(self, min_score)\u001b[0m\n\u001b[1;32m     88\u001b[0m \u001b[0;34m\u001b[0m\u001b[0m\n\u001b[1;32m     89\u001b[0m         \u001b[0;32mif\u001b[0m \u001b[0;32mnot\u001b[0m \u001b[0mself\u001b[0m\u001b[0;34m.\u001b[0m\u001b[0mp20\u001b[0m\u001b[0;34m:\u001b[0m\u001b[0;34m\u001b[0m\u001b[0;34m\u001b[0m\u001b[0m\n\u001b[0;32m---> 90\u001b[0;31m             \u001b[0mself\u001b[0m\u001b[0;34m.\u001b[0m\u001b[0mget_p20\u001b[0m\u001b[0;34m(\u001b[0m\u001b[0;34m)\u001b[0m\u001b[0;34m\u001b[0m\u001b[0;34m\u001b[0m\u001b[0m\n\u001b[0m\u001b[1;32m     91\u001b[0m \u001b[0;34m\u001b[0m\u001b[0m\n\u001b[1;32m     92\u001b[0m         \u001b[0;32mfor\u001b[0m \u001b[0mpos\u001b[0m \u001b[0;32min\u001b[0m \u001b[0mrange\u001b[0m\u001b[0;34m(\u001b[0m\u001b[0mself\u001b[0m\u001b[0;34m.\u001b[0m\u001b[0mp20\u001b[0m\u001b[0;34m,\u001b[0m \u001b[0mself\u001b[0m\u001b[0;34m.\u001b[0m\u001b[0mmsa_len\u001b[0m\u001b[0;34m)\u001b[0m\u001b[0;34m:\u001b[0m\u001b[0;34m\u001b[0m\u001b[0;34m\u001b[0m\u001b[0m\n",
      "\u001b[0;32m~/Documents/c14_witcher/get_c14subunits.py\u001b[0m in \u001b[0;36mget_p20\u001b[0;34m(self)\u001b[0m\n\u001b[1;32m     77\u001b[0m \u001b[0;34m\u001b[0m\u001b[0m\n\u001b[1;32m     78\u001b[0m         \u001b[0;31m#Find the find aspartic acid (D) after the catalytic active site (C)\u001b[0m\u001b[0;34m\u001b[0m\u001b[0;34m\u001b[0m\u001b[0;34m\u001b[0m\u001b[0m\n\u001b[0;32m---> 79\u001b[0;31m         \u001b[0mself\u001b[0m\u001b[0;34m.\u001b[0m\u001b[0mp20\u001b[0m \u001b[0;34m=\u001b[0m \u001b[0mmin\u001b[0m\u001b[0;34m(\u001b[0m\u001b[0;34m[\u001b[0m \u001b[0mpos\u001b[0m \u001b[0;32mfor\u001b[0m \u001b[0mpos\u001b[0m\u001b[0;34m,\u001b[0m\u001b[0maa\u001b[0m \u001b[0;32min\u001b[0m \u001b[0menumerate\u001b[0m\u001b[0;34m(\u001b[0m\u001b[0mstr\u001b[0m\u001b[0;34m(\u001b[0m\u001b[0mself\u001b[0m\u001b[0;34m.\u001b[0m\u001b[0malign_consensus\u001b[0m\u001b[0;34m)\u001b[0m\u001b[0;34m,\u001b[0m\u001b[0;36m1\u001b[0m\u001b[0;34m)\u001b[0m \u001b[0;32mif\u001b[0m \u001b[0;34m(\u001b[0m\u001b[0maa\u001b[0m \u001b[0;34m==\u001b[0m \u001b[0;34m'D'\u001b[0m \u001b[0;32mand\u001b[0m \u001b[0mpos\u001b[0m \u001b[0;34m>\u001b[0m \u001b[0mself\u001b[0m\u001b[0;34m.\u001b[0m\u001b[0mcys_end\u001b[0m\u001b[0;34m)\u001b[0m\u001b[0;34m]\u001b[0m\u001b[0;34m)\u001b[0m\u001b[0;34m\u001b[0m\u001b[0;34m\u001b[0m\u001b[0m\n\u001b[0m\u001b[1;32m     80\u001b[0m \u001b[0;34m\u001b[0m\u001b[0m\n\u001b[1;32m     81\u001b[0m         \u001b[0;31m#print(\"**\", self.col_end)\u001b[0m\u001b[0;34m\u001b[0m\u001b[0;34m\u001b[0m\u001b[0;34m\u001b[0m\u001b[0m\n",
      "\u001b[0;32m~/Documents/c14_witcher/get_c14subunits.py\u001b[0m in \u001b[0;36m<listcomp>\u001b[0;34m(.0)\u001b[0m\n\u001b[1;32m     77\u001b[0m \u001b[0;34m\u001b[0m\u001b[0m\n\u001b[1;32m     78\u001b[0m         \u001b[0;31m#Find the find aspartic acid (D) after the catalytic active site (C)\u001b[0m\u001b[0;34m\u001b[0m\u001b[0;34m\u001b[0m\u001b[0;34m\u001b[0m\u001b[0m\n\u001b[0;32m---> 79\u001b[0;31m         \u001b[0mself\u001b[0m\u001b[0;34m.\u001b[0m\u001b[0mp20\u001b[0m \u001b[0;34m=\u001b[0m \u001b[0mmin\u001b[0m\u001b[0;34m(\u001b[0m\u001b[0;34m[\u001b[0m \u001b[0mpos\u001b[0m \u001b[0;32mfor\u001b[0m \u001b[0mpos\u001b[0m\u001b[0;34m,\u001b[0m\u001b[0maa\u001b[0m \u001b[0;32min\u001b[0m \u001b[0menumerate\u001b[0m\u001b[0;34m(\u001b[0m\u001b[0mstr\u001b[0m\u001b[0;34m(\u001b[0m\u001b[0mself\u001b[0m\u001b[0;34m.\u001b[0m\u001b[0malign_consensus\u001b[0m\u001b[0;34m)\u001b[0m\u001b[0;34m,\u001b[0m\u001b[0;36m1\u001b[0m\u001b[0;34m)\u001b[0m \u001b[0;32mif\u001b[0m \u001b[0;34m(\u001b[0m\u001b[0maa\u001b[0m \u001b[0;34m==\u001b[0m \u001b[0;34m'D'\u001b[0m \u001b[0;32mand\u001b[0m \u001b[0mpos\u001b[0m \u001b[0;34m>\u001b[0m \u001b[0mself\u001b[0m\u001b[0;34m.\u001b[0m\u001b[0mcys_end\u001b[0m\u001b[0;34m)\u001b[0m\u001b[0;34m]\u001b[0m\u001b[0;34m)\u001b[0m\u001b[0;34m\u001b[0m\u001b[0;34m\u001b[0m\u001b[0m\n\u001b[0m\u001b[1;32m     80\u001b[0m \u001b[0;34m\u001b[0m\u001b[0m\n\u001b[1;32m     81\u001b[0m         \u001b[0;31m#print(\"**\", self.col_end)\u001b[0m\u001b[0;34m\u001b[0m\u001b[0;34m\u001b[0m\u001b[0;34m\u001b[0m\u001b[0m\n",
      "\u001b[0;31mTypeError\u001b[0m: '>' not supported between instances of 'int' and 'NoneType'"
     ]
    }
   ],
   "source": [
    "p10 = c14.get_p10()"
   ]
  },
  {
   "cell_type": "code",
   "execution_count": null,
   "metadata": {},
   "outputs": [],
   "source": [
    "print(p10)"
   ]
  },
  {
   "cell_type": "code",
   "execution_count": null,
   "metadata": {},
   "outputs": [],
   "source": [
    "p20 = c14.get_p20()"
   ]
  },
  {
   "cell_type": "code",
   "execution_count": null,
   "metadata": {},
   "outputs": [],
   "source": [
    "print(p20)"
   ]
  },
  {
   "cell_type": "code",
   "execution_count": null,
   "metadata": {},
   "outputs": [],
   "source": [
    "linker = c14.get_linker()"
   ]
  },
  {
   "cell_type": "code",
   "execution_count": null,
   "metadata": {},
   "outputs": [],
   "source": [
    "print(linker)"
   ]
  },
  {
   "cell_type": "code",
   "execution_count": null,
   "metadata": {},
   "outputs": [],
   "source": [
    "stats = c14.get_stats()"
   ]
  },
  {
   "cell_type": "code",
   "execution_count": null,
   "metadata": {},
   "outputs": [],
   "source": [
    "stats"
   ]
  },
  {
   "cell_type": "code",
   "execution_count": null,
   "metadata": {},
   "outputs": [],
   "source": [
    "dt = DecisionTree(stats)"
   ]
  },
  {
   "cell_type": "code",
   "execution_count": null,
   "metadata": {},
   "outputs": [],
   "source": [
    "dt.classify()"
   ]
  },
  {
   "cell_type": "code",
   "execution_count": null,
   "metadata": {},
   "outputs": [],
   "source": []
  }
 ],
 "metadata": {
  "kernelspec": {
   "display_name": "Python 3",
   "language": "python",
   "name": "python3"
  },
  "language_info": {
   "codemirror_mode": {
    "name": "ipython",
    "version": 3
   },
   "file_extension": ".py",
   "mimetype": "text/x-python",
   "name": "python",
   "nbconvert_exporter": "python",
   "pygments_lexer": "ipython3",
   "version": "3.8.2"
  }
 },
 "nbformat": 4,
 "nbformat_minor": 4
}
